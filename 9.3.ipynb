{
 "cells": [
  {
   "cell_type": "code",
   "execution_count": 3,
   "metadata": {},
   "outputs": [
    {
     "name": "stdout",
     "output_type": "stream",
     "text": [
      "Error: Failed to capture image\n"
     ]
    }
   ],
   "source": [
    "import cv2\n",
    "import mediapipe as mp\n",
    "import pyautogui\n",
    "import time\n",
    "import numpy as np\n",
    "\n",
    "# Initialize camera and FaceMesh\n",
    "cam = cv2.VideoCapture(0)\n",
    "\n",
    "if not cam.isOpened():\n",
    "    print(\"Error: Could not open camera.\")\n",
    "    exit()\n",
    "\n",
    "face_mesh = mp.solutions.face_mesh.FaceMesh(refine_landmarks=True)\n",
    "screen_w, screen_h = pyautogui.size()\n",
    "\n",
    "# Cooldown for left click\n",
    "blink_cooldown = 1  # 1 second cooldown\n",
    "last_left_click_time = 0\n",
    "\n",
    "# Variables for head movement tracking\n",
    "prev_nose_x, prev_nose_y = None, None\n",
    "sensitivity = 6  # Increased sensitivity for better accuracy\n",
    "\n",
    "# Eye blink detection variables\n",
    "eye_closure_threshold = 0.015  # Tune this based on testing\n",
    "blink_consecutive_frames = 3  # Number of consecutive frames needed for a valid blink\n",
    "blink_counter = 0  # To count frames when eyes are closed\n",
    "\n",
    "while True:\n",
    "    ret, frame = cam.read()\n",
    "    if not ret:\n",
    "        print(\"Error: Failed to capture image\")\n",
    "        break  # Exit loop if frame is empty\n",
    "\n",
    "    frame = cv2.flip(frame, 1)\n",
    "    rgb_frame = cv2.cvtColor(frame, cv2.COLOR_BGR2RGB)\n",
    "    output = face_mesh.process(rgb_frame)\n",
    "    landmark_points = output.multi_face_landmarks\n",
    "    frame_h, frame_w, _ = frame.shape\n",
    "\n",
    "    if landmark_points:\n",
    "        landmarks = landmark_points[0].landmark\n",
    "\n",
    "        # Cursor Movement using Nose Landmark (Head Movement Control)\n",
    "        nose = landmarks[1]  # Nose tip landmark\n",
    "        nose_x, nose_y = int(nose.x * frame_w), int(nose.y * frame_h)\n",
    "\n",
    "        if prev_nose_x is not None and prev_nose_y is not None:\n",
    "            dx = (nose_x - prev_nose_x) * sensitivity\n",
    "            dy = (nose_y - prev_nose_y) * sensitivity\n",
    "            pyautogui.moveRel(dx, dy)\n",
    "\n",
    "        prev_nose_x, prev_nose_y = nose_x, nose_y\n",
    "\n",
    "        # Eye Blink Detection (Both Eyes for Left Click)\n",
    "        left_eye = [landmarks[145], landmarks[159]]\n",
    "        right_eye = [landmarks[374], landmarks[386]]\n",
    "\n",
    "        left_eye_ratio = left_eye[0].y - left_eye[1].y\n",
    "        right_eye_ratio = right_eye[0].y - right_eye[1].y\n",
    "\n",
    "        if left_eye_ratio < eye_closure_threshold and right_eye_ratio < eye_closure_threshold:\n",
    "            blink_counter += 1\n",
    "        else:\n",
    "            blink_counter = 0  # Reset counter if eyes are open\n",
    "\n",
    "        # Check if blink is sustained for required frames\n",
    "        if blink_counter >= blink_consecutive_frames:\n",
    "            if time.time() - last_left_click_time > blink_cooldown:\n",
    "                pyautogui.click()  # Left Click\n",
    "                last_left_click_time = time.time()\n",
    "                blink_counter = 0  # Reset counter after clicking\n",
    "\n",
    "    cv2.imshow('Eye Controlled Mouse', frame)\n",
    "    if cv2.waitKey(1) & 0xFF == ord('q'):  # Press 'q' to exit\n",
    "        break\n",
    "\n",
    "cam.release()\n",
    "cv2.destroyAllWindows()\n"
   ]
  },
  {
   "cell_type": "code",
   "execution_count": null,
   "metadata": {},
   "outputs": [],
   "source": []
  },
  {
   "cell_type": "code",
   "execution_count": null,
   "metadata": {},
   "outputs": [],
   "source": []
  }
 ],
 "metadata": {
  "kernelspec": {
   "display_name": "base",
   "language": "python",
   "name": "python3"
  },
  "language_info": {
   "codemirror_mode": {
    "name": "ipython",
    "version": 3
   },
   "file_extension": ".py",
   "mimetype": "text/x-python",
   "name": "python",
   "nbconvert_exporter": "python",
   "pygments_lexer": "ipython3",
   "version": "3.12.7"
  }
 },
 "nbformat": 4,
 "nbformat_minor": 2
}
